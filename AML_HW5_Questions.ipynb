{
  "cells": [
    {
      "cell_type": "markdown",
      "metadata": {
        "id": "CsciWCcwSvTS"
      },
      "source": [
        "# **Applied Machine Learning Homework 5**\n",
        "**Due 02 Dec 2023 (Tuesday) 11:59PM EST**"
      ]
    },
    {
      "cell_type": "markdown",
      "metadata": {
        "id": "ES5E7BQBTnnd"
      },
      "source": [
        "Instructions\n",
        "\n",
        "1) Please push the .ipynb and .pdf to Github Classroom prior to the deadline, .py file is optional (not needed).\n",
        "\n",
        "2) Please include your Name and UNI below."
      ]
    },
    {
      "cell_type": "markdown",
      "metadata": {
        "id": "D0SIMW0OTr9m"
      },
      "source": [
        "## Name :\n",
        "\n",
        "## UNI :"
      ]
    },
    {
      "cell_type": "markdown",
      "metadata": {
        "id": "sNOxhZujV_jK"
      },
      "source": [
        "## Convolutional Neural Network\n",
        "\n",
        "In this part of the homework, we will build and train a classical convolutional neural network on the CIFAR Dataset"
      ]
    },
    {
      "cell_type": "code",
      "execution_count": 1,
      "metadata": {
        "id": "I6NNBcucXClM"
      },
      "outputs": [],
      "source": [
        "from tensorflow.keras.models import Sequential\n",
        "from tensorflow.keras.layers import Dense, Conv2D, MaxPool2D, Flatten\n",
        "import pandas as pd\n",
        "from tensorflow.keras.utils import to_categorical\n",
        "from tensorflow.keras.datasets import cifar10"
      ]
    },
    {
      "cell_type": "code",
      "execution_count": null,
      "metadata": {
        "colab": {
          "base_uri": "https://localhost:8080/"
        },
        "id": "Jd4jHLzTYuZm",
        "outputId": "5ad9cd67-4f12-49c2-daee-398ce3b5bbbe"
      },
      "outputs": [],
      "source": [
        "(x_dev, y_dev), (x_test, y_test) = cifar10.load_data()\n",
        "print(\"x_dev: {},y_dev: {},x_test: {},y_test: {}\".format(x_dev.shape, y_dev.shape, x_test.shape, y_test.shape))\n",
        "\n",
        "x_dev, x_test = x_dev.astype('float32'), x_test.astype('float32')\n",
        "x_dev = x_dev/255.0\n",
        "x_test = x_test/255.0\n",
        "\n",
        "\n",
        "from sklearn.model_selection import train_test_split\n",
        "\n",
        "X_train, X_val, y_train, y_val = train_test_split(x_dev, y_dev,test_size = 0.2, random_state = 42)"
      ]
    },
    {
      "cell_type": "markdown",
      "metadata": {
        "id": "bDPnZzg0XDQ9"
      },
      "source": [
        "3.1 We will be implementing the one of the first CNN models put forward by Yann LeCunn, which is commonly refered to as LeNet-5. The network has the following layers:\n",
        "1) 2D convolutional layer with 6 filters, 5x5 kernel, stride of 1 padded to yield the same size as input, ReLU activation\n",
        "\n",
        "2) Maxpooling layer of 2x2\n",
        "\n",
        "3) 2D convolutional layer with 16 filters, 5x5 kernel, 0 padding, ReLU activation\n",
        "\n",
        "4) Maxpooling layer of 2x2\n",
        "\n",
        "5) 2D convolutional layer with 120 filters, 5x5 kernel, ReLU activation. Note that this layer has 120 output channels (filters), and each channel has only 1 number. The output of this layer is just a vector with 120 units!\n",
        "\n",
        "6) A fully connected layer with 84 units, ReLU activation\n",
        "\n",
        "7) The output layer where each unit respresents the probability of image being in that category. What activation function should you use in this layer? (You should know this)"
      ]
    },
    {
      "cell_type": "code",
      "execution_count": null,
      "metadata": {
        "id": "ok_DyDq_XJwh"
      },
      "outputs": [],
      "source": [
        "#Your code here"
      ]
    },
    {
      "cell_type": "markdown",
      "metadata": {
        "id": "zKkSBBDwXNT1"
      },
      "source": [
        "3.2 Report the model summary"
      ]
    },
    {
      "cell_type": "code",
      "execution_count": null,
      "metadata": {
        "id": "sJlJnEcUXQY-"
      },
      "outputs": [],
      "source": [
        "#Your code here"
      ]
    },
    {
      "cell_type": "markdown",
      "metadata": {
        "id": "sjMqpYrkXXO0"
      },
      "source": [
        "###3.3 Model Training\n",
        "\n",
        "1) Train the model for 20 epochs. In each epoch, record the loss and metric (chosen in part 3) scores for both train and validation sets.\n",
        "\n",
        "2) Plot separate plots for:\n",
        "\n",
        "* displaying train vs validation loss over each epoch\n",
        "* displaying train vs validation accuracy over each epoch\n",
        "\n",
        "3) Report the model performance on the test set. Feel free to tune the hyperparameters such as batch size and optimizers to achieve better performance."
      ]
    },
    {
      "cell_type": "code",
      "execution_count": null,
      "metadata": {
        "id": "Cyk188RpXYGs"
      },
      "outputs": [],
      "source": [
        "#Your code here"
      ]
    },
    {
      "cell_type": "code",
      "execution_count": null,
      "metadata": {
        "id": "2IuzTifDXece"
      },
      "outputs": [],
      "source": [
        "# #Your code here"
      ]
    },
    {
      "cell_type": "code",
      "execution_count": null,
      "metadata": {
        "id": "jS4GnYarXgy_"
      },
      "outputs": [],
      "source": [
        "#Your code here"
      ]
    },
    {
      "cell_type": "markdown",
      "metadata": {
        "id": "mSteTYz8XlFG"
      },
      "source": [
        "3.4 Overfitting\n",
        "\n",
        "1) To overcome overfitting, we will train the network again with dropout this time. For hidden layers use dropout probability of 0.3. Train the model again for 20 epochs. Report model performance on test set.\n",
        "\n",
        "Plot separate plots for:\n",
        "\n",
        "displaying train vs validation loss over each epoch\n",
        "displaying train vs validation accuracy over each epoch\n",
        "\n",
        "2) This time, let's apply a batch normalization after every hidden layer, train the model for 20 epochs, report model performance on test set as above.\n",
        "\n",
        "Plot separate plots for:\n",
        "\n",
        "displaying train vs validation loss over each epoch\n",
        "displaying train vs validation accuracy over each epoch\n",
        "\n",
        "3) Compare batch normalization technique with the original model and with dropout, which technique do you think helps with overfitting better?"
      ]
    },
    {
      "cell_type": "markdown",
      "metadata": {
        "id": "QqC6Zs_UXrHE"
      },
      "source": [
        "3.4.1 Dropout"
      ]
    },
    {
      "cell_type": "code",
      "execution_count": null,
      "metadata": {
        "id": "tKi2YqTrXulb"
      },
      "outputs": [],
      "source": [
        "#Your code here"
      ]
    },
    {
      "cell_type": "code",
      "execution_count": null,
      "metadata": {
        "id": "tr_FL8h5Xx5c"
      },
      "outputs": [],
      "source": [
        "#Your code here"
      ]
    },
    {
      "cell_type": "code",
      "execution_count": null,
      "metadata": {
        "id": "b8GRnh8dX0WF"
      },
      "outputs": [],
      "source": [
        "#Your code here"
      ]
    },
    {
      "cell_type": "markdown",
      "metadata": {
        "id": "-xviUopQX71P"
      },
      "source": [
        "3.4.2 Batch Normalisation"
      ]
    },
    {
      "cell_type": "code",
      "execution_count": null,
      "metadata": {
        "id": "HgvBTLRpX-t5"
      },
      "outputs": [],
      "source": [
        "#Your code here"
      ]
    },
    {
      "cell_type": "code",
      "execution_count": null,
      "metadata": {
        "id": "oSdB71AQYBkY"
      },
      "outputs": [],
      "source": [
        "#Your code here"
      ]
    },
    {
      "cell_type": "code",
      "execution_count": null,
      "metadata": {
        "id": "Dy1glawqYExM"
      },
      "outputs": [],
      "source": [
        "#Your code here"
      ]
    },
    {
      "cell_type": "markdown",
      "metadata": {
        "id": "z0sQIvXhTzNp"
      },
      "source": [
        "## Natural Language Processing\n",
        "\n",
        "We will train a supervised learning model to predict if a movie review has a positive or negative sentiment."
      ]
    },
    {
      "cell_type": "markdown",
      "metadata": {
        "id": "QXMFcomQT3cf"
      },
      "source": [
        "###**Dataset loading & dev/test splits**"
      ]
    },
    {
      "cell_type": "markdown",
      "metadata": {
        "id": "X-AVsvHdMtqQ"
      },
      "source": [
        "1.1) Load the movie reviews dataset from NLTK library"
      ]
    },
    {
      "cell_type": "code",
      "execution_count": null,
      "metadata": {
        "colab": {
          "base_uri": "https://localhost:8080/"
        },
        "id": "AqyybzOMMAvo",
        "outputId": "05e45f5d-0efa-48d8-ceb7-87f8179e3a53"
      },
      "outputs": [],
      "source": [
        "import nltk\n",
        "nltk.download(\"movie_reviews\")\n",
        "nltk.download('punkt')\n",
        "nltk.download('stopwords')\n",
        "import warnings\n",
        "warnings.filterwarnings(\"ignore\")\n",
        "from nltk.corpus import stopwords\n",
        "stop = stopwords.words('english')\n",
        "import pandas as pd\n",
        "import string\n",
        "import re\n",
        "from sklearn.model_selection import train_test_split\n",
        "from nltk.stem import PorterStemmer\n",
        "from nltk.tokenize import word_tokenize\n",
        "from sklearn.feature_extraction.text import CountVectorizer\n",
        "from sklearn.linear_model import LogisticRegression\n",
        "from sklearn.feature_extraction.text import TfidfVectorizer\n",
        "from sklearn.metrics import classification_report"
      ]
    },
    {
      "cell_type": "markdown",
      "metadata": {
        "id": "fli0xSP5MpOa"
      },
      "source": [
        "1.2) Load the positive & negative reviews"
      ]
    },
    {
      "cell_type": "code",
      "execution_count": null,
      "metadata": {
        "id": "2anjMGF6MYmS"
      },
      "outputs": [],
      "source": [
        "positive_reviews = nltk.corpus.movie_reviews.fileids('pos')\n",
        "negative_reviews = nltk.corpus.movie_reviews.fileids('neg')"
      ]
    },
    {
      "cell_type": "markdown",
      "metadata": {
        "id": "wgnT0SFqM5WN"
      },
      "source": [
        "1.3) Make a data frame that has all reviews and their corresponding labels"
      ]
    },
    {
      "cell_type": "code",
      "execution_count": null,
      "metadata": {
        "id": "iLehhhrQM4h3"
      },
      "outputs": [],
      "source": [
        "# Your code here"
      ]
    },
    {
      "cell_type": "markdown",
      "metadata": {
        "id": "ttE7HrHjNDuC"
      },
      "source": [
        "1.4) Look at the class distribution of the movie reviews"
      ]
    },
    {
      "cell_type": "code",
      "execution_count": null,
      "metadata": {
        "id": "NtuvFJQ_NBmu"
      },
      "outputs": [],
      "source": [
        "# Your code here"
      ]
    },
    {
      "cell_type": "markdown",
      "metadata": {
        "id": "hn05L1C0NIx7"
      },
      "source": [
        "1.5) Create a development & test split (80/20 ratio):"
      ]
    },
    {
      "cell_type": "code",
      "execution_count": null,
      "metadata": {
        "id": "egvHN2VeNGwN"
      },
      "outputs": [],
      "source": [
        "# Your code here"
      ]
    },
    {
      "cell_type": "markdown",
      "metadata": {
        "id": "7v8ikOSFNRUU"
      },
      "source": [
        "## **Data preprocessing**\n",
        "\n",
        "We will do some data preprocessing before we tokenize the data. We will remove # symbol, hyperlinks, stop words & punctuations from the data. You can use the re package in python to and and replace these strings."
      ]
    },
    {
      "cell_type": "markdown",
      "metadata": {
        "id": "G1rs4Z0sOGN5"
      },
      "source": [
        "1.6) Replace numbers in every review with \"\""
      ]
    },
    {
      "cell_type": "code",
      "execution_count": null,
      "metadata": {
        "id": "sJ8HffyQNPyp"
      },
      "outputs": [],
      "source": [
        "# Your code here"
      ]
    },
    {
      "cell_type": "markdown",
      "metadata": {
        "id": "GUESPUzDOO6x"
      },
      "source": [
        "1.7) Remove all stop words"
      ]
    },
    {
      "cell_type": "code",
      "execution_count": null,
      "metadata": {
        "id": "Kz_qmWLkOVVs"
      },
      "outputs": [],
      "source": [
        "# Your code here"
      ]
    },
    {
      "cell_type": "markdown",
      "metadata": {
        "id": "y5OIknvjOZwT"
      },
      "source": [
        "1.9) Remove all punctuations"
      ]
    },
    {
      "cell_type": "code",
      "execution_count": null,
      "metadata": {
        "id": "TK1E0DXNOTWo"
      },
      "outputs": [],
      "source": [
        "# Your code here"
      ]
    },
    {
      "cell_type": "markdown",
      "metadata": {
        "id": "TgCMUOoHOdtp"
      },
      "source": [
        "1.10) Apply stemming on the development & test datasets using Porter algorithm"
      ]
    },
    {
      "cell_type": "code",
      "execution_count": null,
      "metadata": {
        "id": "y-rKDUheOa3K"
      },
      "outputs": [],
      "source": [
        "# Your code here"
      ]
    },
    {
      "cell_type": "markdown",
      "metadata": {
        "id": "BsgZEUY1Q7M1"
      },
      "source": [
        "1.11) Looking at the dataset do you think any other data pre-processing might be helpful? You can experiment with the features if you want to."
      ]
    },
    {
      "cell_type": "markdown",
      "metadata": {
        "id": "htyGAullliDJ"
      },
      "source": [
        "### 2) Model Training"
      ]
    },
    {
      "cell_type": "markdown",
      "metadata": {
        "id": "UkPGh4VSltnn"
      },
      "source": [
        "2.1) Create bag of words features for each review in the development dataset"
      ]
    },
    {
      "cell_type": "code",
      "execution_count": null,
      "metadata": {
        "id": "mbkVmAwRluTn"
      },
      "outputs": [],
      "source": [
        "# Your code here"
      ]
    },
    {
      "cell_type": "markdown",
      "metadata": {
        "id": "1lfwegKtk-Lp"
      },
      "source": [
        "2.2) Train a Logistic Regression model on the development dataset"
      ]
    },
    {
      "cell_type": "code",
      "execution_count": null,
      "metadata": {
        "id": "PEx3JOnfk-tY"
      },
      "outputs": [],
      "source": [
        "# Your code here"
      ]
    },
    {
      "cell_type": "markdown",
      "metadata": {
        "id": "B_3wvbk9k_Sj"
      },
      "source": [
        "2.3) Create TF-IDF features for each review in the development dataset"
      ]
    },
    {
      "cell_type": "code",
      "execution_count": null,
      "metadata": {
        "id": "vlmA7bS3k_tQ"
      },
      "outputs": [],
      "source": [
        "# Your code here"
      ]
    },
    {
      "cell_type": "markdown",
      "metadata": {
        "id": "uFnzO67WlL2Y"
      },
      "source": [
        "2.4) Train the Logistic Regression model on the development dataset with TF-IDF features"
      ]
    },
    {
      "cell_type": "code",
      "execution_count": null,
      "metadata": {
        "id": "mF1AcJxKlN_I"
      },
      "outputs": [],
      "source": [
        "# Your code here"
      ]
    },
    {
      "cell_type": "markdown",
      "metadata": {
        "id": "MdFS6SWMlONK"
      },
      "source": [
        "2.5) Compare the performance of the two models on the test dataset using a classication\n",
        "report and the scores obtained. Explain the difference in results obtained."
      ]
    },
    {
      "cell_type": "code",
      "execution_count": null,
      "metadata": {
        "id": "o6gpOsp7lTJx"
      },
      "outputs": [],
      "source": [
        "# Your code here"
      ]
    }
  ],
  "metadata": {
    "colab": {
      "provenance": []
    },
    "kernelspec": {
      "display_name": "Python 3.11.4 ('base')",
      "language": "python",
      "name": "python3"
    },
    "language_info": {
      "codemirror_mode": {
        "name": "ipython",
        "version": 3
      },
      "file_extension": ".py",
      "mimetype": "text/x-python",
      "name": "python",
      "nbconvert_exporter": "python",
      "pygments_lexer": "ipython3",
      "version": "3.11.4"
    },
    "vscode": {
      "interpreter": {
        "hash": "3d478bda651dbca712eb3db1d8dcebab555b47173a28bac9378c8cb960b89182"
      }
    }
  },
  "nbformat": 4,
  "nbformat_minor": 0
}
